{
  "nbformat": 4,
  "nbformat_minor": 0,
  "metadata": {
    "colab": {
      "provenance": [],
      "authorship_tag": "ABX9TyNOw1eMOXTtDWdrtSPOIrSV",
      "include_colab_link": true
    },
    "kernelspec": {
      "name": "python3",
      "display_name": "Python 3"
    },
    "language_info": {
      "name": "python"
    }
  },
  "cells": [
    {
      "cell_type": "markdown",
      "metadata": {
        "id": "view-in-github",
        "colab_type": "text"
      },
      "source": [
        "<a href=\"https://colab.research.google.com/github/Afitz19/Afitz19/blob/main/Copy_of_Car_Payment_Cal.ipynb\" target=\"_parent\"><img src=\"https://colab.research.google.com/assets/colab-badge.svg\" alt=\"Open In Colab\"/></a>"
      ]
    },
    {
      "cell_type": "code",
      "execution_count": null,
      "metadata": {
        "colab": {
          "base_uri": "https://localhost:8080/"
        },
        "id": "OqCRy7xViyg0",
        "outputId": "cfbf1db8-de0a-4227-d58e-c37fa72fd135"
      },
      "outputs": [
        {
          "output_type": "stream",
          "name": "stdout",
          "text": [
            "2022-09-15\n",
            "2022-09-15 22194.02\n",
            "2022-10-15 21896.67\n",
            "2022-11-15 21597.94\n",
            "2022-12-15 21297.83\n",
            "2023-01-15 20996.33\n",
            "2023-02-15 20693.44\n",
            "2023-03-15 20389.15\n",
            "2023-04-15 20083.45\n",
            "2023-05-15 19776.34\n",
            "2023-06-15 19467.81\n",
            "2023-07-15 19157.85\n",
            "2023-08-15 18846.46\n",
            "2023-09-15 18533.62\n",
            "2023-10-15 18219.34\n",
            "2023-11-15 17903.6\n",
            "2023-12-15 17586.4\n",
            "2024-01-15 17267.74\n",
            "2024-02-15 16947.6\n",
            "2024-03-15 16625.98\n",
            "2024-04-15 16302.88\n",
            "2024-05-15 15978.28\n",
            "2024-06-15 15652.18\n",
            "2024-07-15 15324.57\n",
            "2024-08-15 14995.45\n",
            "2024-09-15 14664.8\n",
            "2024-10-15 14332.62\n",
            "2024-11-15 13998.91\n",
            "2024-12-15 13663.65\n",
            "2025-01-15 13326.84\n",
            "2025-02-15 12988.48\n",
            "2025-03-15 12648.55\n",
            "2025-04-15 12307.05\n",
            "2025-05-15 11963.97\n",
            "2025-06-15 11619.3\n",
            "2025-07-15 11273.04\n",
            "2025-08-15 10925.18\n",
            "2025-09-15 10575.71\n",
            "2025-10-15 10224.62\n",
            "2025-11-15 9871.91\n",
            "2025-12-15 9517.57\n",
            "2026-01-15 9161.59\n",
            "2026-02-15 8803.96\n",
            "2026-03-15 8444.68\n",
            "2026-04-15 8083.74\n",
            "2026-05-15 7721.13\n",
            "2026-06-15 7356.84\n",
            "2026-07-15 6990.87\n",
            "2026-08-15 6623.2\n",
            "2026-09-15 6253.83\n",
            "2026-10-15 5882.75\n",
            "2026-11-15 5509.96\n",
            "2026-12-15 5135.44\n",
            "2027-01-15 4759.19\n",
            "2027-02-15 4381.2\n",
            "2027-03-15 4001.46\n",
            "2027-04-15 3619.97\n",
            "2027-05-15 3236.71\n",
            "2027-06-15 2851.68\n",
            "2027-07-15 2464.87\n",
            "2027-08-15 2076.27\n",
            "2027-09-15 1685.87\n",
            "2027-10-15 1293.67\n",
            "2027-11-15 899.65\n",
            "2027-12-15 503.81\n",
            "2028-01-15 106.14\n",
            "2028-02-15 0\n"
          ]
        }
      ],
      "source": [
        "import datetime\n",
        "import time\n",
        "import calendar\n",
        "Car_payoff_balance = 22490\n",
        "Interest_Rate = 5.55 * .01\n",
        "Monthly_payment = 420\n",
        "\n",
        "today = datetime.date.today()\n",
        "days_in_current_month = calendar.monthrange(today.year, today.month)[1]\n",
        "days_until_end_of_month = days_in_current_month - today.day\n",
        "#I put plus 15 on start date because my personal due date on my carnote is on the 15th\n",
        "start_date = today + datetime.timedelta(days_until_end_of_month + 15)\n",
        "end_date = start_date\n",
        "print(start_date)\n",
        "\n",
        "while Car_payoff_balance > 0:\n",
        "    interest_charge = (Interest_Rate / 12) * Car_payoff_balance\n",
        "# adds intrest to our car balance\n",
        "    Car_payoff_balance += interest_charge\n",
        "    # this subtracts month payment from balance\n",
        "    Car_payoff_balance -= Monthly_payment\n",
        "\n",
        "    Car_payoff_balance = round(Car_payoff_balance, 2)\n",
        "    #sets balance to 0 if paid off\n",
        "    if Car_payoff_balance < 0 :\n",
        "        Car_payoff_balance = 0\n",
        "\n",
        "    print(end_date, Car_payoff_balance)\n",
        "    days_in_current_month = calendar.monthrange(end_date.year, end_date.month)[1]\n",
        "    end_date = end_date + datetime.timedelta(days=days_in_current_month)"
      ]
    }
  ]
}